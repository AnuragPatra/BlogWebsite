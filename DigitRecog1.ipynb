{
  "nbformat": 4,
  "nbformat_minor": 0,
  "metadata": {
    "colab": {
      "name": "DigitRecog1.ipynb",
      "provenance": [],
      "collapsed_sections": [],
      "mount_file_id": "1i4jDT8hTBIfqxVcKeCYYig9uD3Ib8J-d",
      "authorship_tag": "ABX9TyNFqfdcGr3F6FeRoJzdTaCC",
      "include_colab_link": true
    },
    "kernelspec": {
      "name": "python3",
      "display_name": "Python 3"
    },
    "accelerator": "GPU"
  },
  "cells": [
    {
      "cell_type": "markdown",
      "metadata": {
        "id": "view-in-github",
        "colab_type": "text"
      },
      "source": [
        "<a href=\"https://colab.research.google.com/github/AnuragPatra/BlogWebsite/blob/master/DigitRecog1.ipynb\" target=\"_parent\"><img src=\"https://colab.research.google.com/assets/colab-badge.svg\" alt=\"Open In Colab\"/></a>"
      ]
    },
    {
      "cell_type": "markdown",
      "metadata": {
        "id": "jwCwD1hibunK"
      },
      "source": [
        "# **Importing the dataset**\r\n",
        "Importing the MNIST dataset from keras library."
      ]
    },
    {
      "cell_type": "code",
      "metadata": {
        "id": "UC3jRGeGc0fG"
      },
      "source": [
        "from keras.datasets import mnist\r\n",
        "import tensorflow as tf"
      ],
      "execution_count": 2,
      "outputs": []
    },
    {
      "cell_type": "code",
      "metadata": {
        "colab": {
          "base_uri": "https://localhost:8080/",
          "height": 35
        },
        "id": "zYwW69u395x3",
        "outputId": "0272afd5-a61f-41df-dca7-1c93f7875cd1"
      },
      "source": [
        "import tensorflow as tf\r\n",
        "tf.test.gpu_device_name()"
      ],
      "execution_count": 3,
      "outputs": [
        {
          "output_type": "execute_result",
          "data": {
            "application/vnd.google.colaboratory.intrinsic+json": {
              "type": "string"
            },
            "text/plain": [
              "'/device:GPU:0'"
            ]
          },
          "metadata": {
            "tags": []
          },
          "execution_count": 3
        }
      ]
    },
    {
      "cell_type": "code",
      "metadata": {
        "colab": {
          "base_uri": "https://localhost:8080/"
        },
        "id": "KWGSCSEq-4h8",
        "outputId": "2fa9d148-6a89-414f-e073-cc4d60137dd7"
      },
      "source": [
        "!cat /proc/meminfo"
      ],
      "execution_count": 4,
      "outputs": [
        {
          "output_type": "stream",
          "text": [
            "MemTotal:       13333596 kB\n",
            "MemFree:         9588224 kB\n",
            "MemAvailable:   11924052 kB\n",
            "Buffers:           78388 kB\n",
            "Cached:          2298240 kB\n",
            "SwapCached:            0 kB\n",
            "Active:          1119236 kB\n",
            "Inactive:        2228856 kB\n",
            "Active(anon):     824204 kB\n",
            "Inactive(anon):     8536 kB\n",
            "Active(file):     295032 kB\n",
            "Inactive(file):  2220320 kB\n",
            "Unevictable:           0 kB\n",
            "Mlocked:               0 kB\n",
            "SwapTotal:             0 kB\n",
            "SwapFree:              0 kB\n",
            "Dirty:               796 kB\n",
            "Writeback:             0 kB\n",
            "AnonPages:        971552 kB\n",
            "Mapped:           545740 kB\n",
            "Shmem:              9152 kB\n",
            "Slab:             168260 kB\n",
            "SReclaimable:     122596 kB\n",
            "SUnreclaim:        45664 kB\n",
            "KernelStack:        4096 kB\n",
            "PageTables:         8220 kB\n",
            "NFS_Unstable:          0 kB\n",
            "Bounce:                0 kB\n",
            "WritebackTmp:          0 kB\n",
            "CommitLimit:     6666796 kB\n",
            "Committed_AS:    3308316 kB\n",
            "VmallocTotal:   34359738367 kB\n",
            "VmallocUsed:           0 kB\n",
            "VmallocChunk:          0 kB\n",
            "Percpu:              952 kB\n",
            "AnonHugePages:      2048 kB\n",
            "ShmemHugePages:        0 kB\n",
            "ShmemPmdMapped:        0 kB\n",
            "HugePages_Total:       0\n",
            "HugePages_Free:        0\n",
            "HugePages_Rsvd:        0\n",
            "HugePages_Surp:        0\n",
            "Hugepagesize:       2048 kB\n",
            "Hugetlb:               0 kB\n",
            "DirectMap4k:      169192 kB\n",
            "DirectMap2M:     5072896 kB\n",
            "DirectMap1G:    10485760 kB\n"
          ],
          "name": "stdout"
        }
      ]
    },
    {
      "cell_type": "code",
      "metadata": {
        "colab": {
          "base_uri": "https://localhost:8080/"
        },
        "id": "UuwkJFt5-pla",
        "outputId": "ae6ceac3-912a-4d2c-f5ec-65b77f23b468"
      },
      "source": [
        "from tensorflow.python.client import device_lib\r\n",
        "device_lib.list_local_devices()"
      ],
      "execution_count": 5,
      "outputs": [
        {
          "output_type": "execute_result",
          "data": {
            "text/plain": [
              "[name: \"/device:CPU:0\"\n",
              " device_type: \"CPU\"\n",
              " memory_limit: 268435456\n",
              " locality {\n",
              " }\n",
              " incarnation: 15556007189784880925, name: \"/device:GPU:0\"\n",
              " device_type: \"GPU\"\n",
              " memory_limit: 14638920512\n",
              " locality {\n",
              "   bus_id: 1\n",
              "   links {\n",
              "   }\n",
              " }\n",
              " incarnation: 14352954608729750301\n",
              " physical_device_desc: \"device: 0, name: Tesla T4, pci bus id: 0000:00:04.0, compute capability: 7.5\"]"
            ]
          },
          "metadata": {
            "tags": []
          },
          "execution_count": 5
        }
      ]
    },
    {
      "cell_type": "code",
      "metadata": {
        "colab": {
          "base_uri": "https://localhost:8080/"
        },
        "id": "d5GYoLVr98qh",
        "outputId": "07364efd-5cc0-445c-835c-0389b9d1cbc7"
      },
      "source": [
        "(x_train, y_train), (x_test, y_test) = mnist.load_data()"
      ],
      "execution_count": 6,
      "outputs": [
        {
          "output_type": "stream",
          "text": [
            "Downloading data from https://storage.googleapis.com/tensorflow/tf-keras-datasets/mnist.npz\n",
            "11493376/11490434 [==============================] - 0s 0us/step\n"
          ],
          "name": "stdout"
        }
      ]
    },
    {
      "cell_type": "code",
      "metadata": {
        "colab": {
          "base_uri": "https://localhost:8080/"
        },
        "id": "f_S6TzCtd0b8",
        "outputId": "889643c0-117e-4588-d9c1-00ba1644f7a1"
      },
      "source": [
        "print(x_train.shape)\r\n",
        "print(x_test.shape)\r\n",
        "print(y_train.shape)\r\n",
        "print(y_test.shape)"
      ],
      "execution_count": 7,
      "outputs": [
        {
          "output_type": "stream",
          "text": [
            "(60000, 28, 28)\n",
            "(10000, 28, 28)\n",
            "(60000,)\n",
            "(10000,)\n"
          ],
          "name": "stdout"
        }
      ]
    },
    {
      "cell_type": "code",
      "metadata": {
        "colab": {
          "base_uri": "https://localhost:8080/",
          "height": 269
        },
        "id": "eQSIXJpVeDDW",
        "outputId": "c6af0682-020f-4407-d7bf-0421b869f1a8"
      },
      "source": [
        "import matplotlib.pyplot as plt\r\n",
        "for i in range(25):\r\n",
        "  plt.subplot(5,5,i+1)\r\n",
        "  plt.imshow(x_train[i])"
      ],
      "execution_count": 8,
      "outputs": [
        {
          "output_type": "display_data",
          "data": {
            "image/png": "[encoded data removed]",
            "text/plain": [
              "<Figure size 432x288 with 25 Axes>"
            ]
          },
          "metadata": {
            "tags": [],
            "needs_background": "light"
          }
        }
      ]
    },
    {
      "cell_type": "code",
      "metadata": {
        "id": "pZC2ZmpleOms"
      },
      "source": [
        ""
      ],
      "execution_count": 8,
      "outputs": []
    },
    {
      "cell_type": "markdown",
      "metadata": {
        "id": "SI6c5Ofyepfp"
      },
      "source": [
        "# **Data Preprocessing**\r\n",
        "**Reshape**: \r\n",
        "Reshape the input image into 1 dimension for the input layer of the neural networks.\r\n",
        "Set input shape to (28,28,1) for the image, and input data type to float32.\r\n",
        "\r\n",
        "---\r\n",
        "**Normalize the data**:\r\n",
        "The pixel values are changed from 0-255 to 0-1 for achieving better accuracy by the model.\r\n",
        "\r\n",
        "---\r\n",
        "**OneHotEncode the data**:\r\n",
        "For the labels of the mnist data.\r\n",
        "The labels should have 10 values, it represented the digit from 0 – 9 .The input image digit position is have the value 1 and all other values is 0 in the label.\r\n"
      ]
    },
    {
      "cell_type": "code",
      "metadata": {
        "id": "_vghl8aQen_1"
      },
      "source": [
        "#input image row and column\r\n",
        "input_img_row = x_train[0].shape[0]\r\n",
        "input_img_col = x_train[0].shape[1]"
      ],
      "execution_count": 9,
      "outputs": []
    },
    {
      "cell_type": "code",
      "metadata": {
        "id": "FtiAfex0ghUj"
      },
      "source": [
        "#reshape to have 1 dim\r\n",
        "input_shape = (input_img_row, input_img_col, 1)\r\n",
        "x_train = x_train.reshape(x_train.shape[0], input_img_row, input_img_col, 1)\r\n",
        "x_test = x_test.reshape(x_test.shape[0], input_img_row, input_img_col, 1)\r\n",
        "\r\n",
        "#set datatype as float32\r\n",
        "x_train = x_train.astype(\"float32\")\r\n",
        "x_test = x_test.astype(\"float32\")\r\n",
        "\r\n",
        "# print(x_train[0])"
      ],
      "execution_count": 10,
      "outputs": []
    },
    {
      "cell_type": "code",
      "metadata": {
        "id": "jSxCB5cDhTlD"
      },
      "source": [
        "#Normalise the data\r\n",
        "x_train /= 255\r\n",
        "x_test /= 255\r\n",
        "\r\n",
        "# print(x_train[0])"
      ],
      "execution_count": 11,
      "outputs": []
    },
    {
      "cell_type": "code",
      "metadata": {
        "colab": {
          "base_uri": "https://localhost:8080/"
        },
        "id": "9a6IqdhFiql3",
        "outputId": "192d61d8-0e92-4207-9a19-5acd1a6090e9"
      },
      "source": [
        "#One Hot Encode the data labels\r\n",
        "from keras.utils import np_utils\r\n",
        "y_train = np_utils.to_categorical(y_train)\r\n",
        "y_test = np_utils.to_categorical(y_test)\r\n",
        "\r\n",
        "print(y_train[0])"
      ],
      "execution_count": 12,
      "outputs": [
        {
          "output_type": "stream",
          "text": [
            "[0. 0. 0. 0. 0. 1. 0. 0. 0. 0.]\n"
          ],
          "name": "stdout"
        }
      ]
    },
    {
      "cell_type": "code",
      "metadata": {
        "colab": {
          "base_uri": "https://localhost:8080/"
        },
        "id": "m1OWKDpWj1V-",
        "outputId": "22a29e97-0ee0-49dc-ad52-05108a94d385"
      },
      "source": [
        "print(y_train.shape)\r\n",
        "print(y_test.shape)"
      ],
      "execution_count": 13,
      "outputs": [
        {
          "output_type": "stream",
          "text": [
            "(60000, 10)\n",
            "(10000, 10)\n"
          ],
          "name": "stdout"
        }
      ]
    },
    {
      "cell_type": "code",
      "metadata": {
        "colab": {
          "base_uri": "https://localhost:8080/"
        },
        "id": "52jDqnkykbrN",
        "outputId": "e57196b2-76fc-4a10-ab25-c952e9d88f5f"
      },
      "source": [
        "num_classes = y_train.shape[1]\r\n",
        "num_pixels = x_train.shape[1]*x_train.shape[2]\r\n",
        "print(f'Number of classes are {num_classes}.')\r\n",
        "print(f'Number of pixels are {num_pixels}.')"
      ],
      "execution_count": 14,
      "outputs": [
        {
          "output_type": "stream",
          "text": [
            "Number of classes are 10.\n",
            "Number of pixels are 784.\n"
          ],
          "name": "stdout"
        }
      ]
    },
    {
      "cell_type": "code",
      "metadata": {
        "id": "YEedzwPBkr6_"
      },
      "source": [
        ""
      ],
      "execution_count": 14,
      "outputs": []
    },
    {
      "cell_type": "markdown",
      "metadata": {
        "id": "HC3JnVpKlGUV"
      },
      "source": [
        "# **Build the CNN model**\r\n",
        "Build layers and we use relu activation for the input layer and softmax activation for the output layers.\r\n",
        "To enhance the effectiveness of the algorithm, we use more layers.\r\n",
        " \r\n",
        " ---\r\n",
        " First off, import all required packages"
      ]
    },
    {
      "cell_type": "code",
      "metadata": {
        "id": "R39F-ORglXIu"
      },
      "source": [
        "from keras.models import Sequential\r\n",
        "from keras.layers import Dense, Dropout, Flatten, Conv2D, MaxPool2D\r\n",
        "from keras.optimizers import SGD"
      ],
      "execution_count": 15,
      "outputs": []
    },
    {
      "cell_type": "code",
      "metadata": {
        "id": "DH5RiECsls2u"
      },
      "source": [
        "model = Sequential()"
      ],
      "execution_count": 16,
      "outputs": []
    },
    {
      "cell_type": "code",
      "metadata": {
        "id": "u-pxZpy5l1jl"
      },
      "source": [
        "model.add(Conv2D(filters=32, kernel_size=(3,3), activation=\"relu\"))\r\n",
        "model.add(Conv2D(filters=64, kernel_size=(3,3), activation=\"relu\"))\r\n",
        "model.add(MaxPool2D(pool_size=(2,2)))\r\n",
        "model.add(Dropout(0.25))\r\n",
        "model.add(Flatten())\r\n",
        "model.add(Dense(units=128, activation=\"relu\",))\r\n",
        "model.add(Dropout(0.25))\r\n",
        "model.add(Dense(units=num_classes, activation=\"softmax\",))"
      ],
      "execution_count": 17,
      "outputs": []
    },
    {
      "cell_type": "code",
      "metadata": {
        "id": "0PsloRCEnJBg"
      },
      "source": [
        "#Compiling and optimising the model\r\n",
        "model.compile(optimizer=SGD(0.01), loss=\"categorical_crossentropy\", metrics=[\"accuracy\"])"
      ],
      "execution_count": 18,
      "outputs": []
    },
    {
      "cell_type": "code",
      "metadata": {
        "colab": {
          "base_uri": "https://localhost:8080/"
        },
        "id": "3vGf6mPpnfXR",
        "outputId": "12e91700-12a0-400f-c1a0-2f28a9adbfe6"
      },
      "source": [
        "#train the model\r\n",
        "train = model.fit(x=x_train, y=y_train, batch_size=20, epochs=10, verbose=1, validation_data=(x_test, y_test))"
      ],
      "execution_count": 28,
      "outputs": [
        {
          "output_type": "stream",
          "text": [
            "Epoch 1/10\n",
            "3000/3000 [==============================] - 11s 4ms/step - loss: 0.0101 - accuracy: 0.9968 - val_loss: 0.0340 - val_accuracy: 0.9912\n",
            "Epoch 2/10\n",
            "3000/3000 [==============================] - 11s 4ms/step - loss: 0.0073 - accuracy: 0.9975 - val_loss: 0.0335 - val_accuracy: 0.9912\n",
            "Epoch 3/10\n",
            "3000/3000 [==============================] - 11s 4ms/step - loss: 0.0068 - accuracy: 0.9978 - val_loss: 0.0329 - val_accuracy: 0.9911\n",
            "Epoch 4/10\n",
            "3000/3000 [==============================] - 11s 4ms/step - loss: 0.0060 - accuracy: 0.9979 - val_loss: 0.0324 - val_accuracy: 0.9918\n",
            "Epoch 5/10\n",
            "3000/3000 [==============================] - 11s 4ms/step - loss: 0.0047 - accuracy: 0.9984 - val_loss: 0.0325 - val_accuracy: 0.9917\n",
            "Epoch 6/10\n",
            "3000/3000 [==============================] - 11s 4ms/step - loss: 0.0053 - accuracy: 0.9982 - val_loss: 0.0326 - val_accuracy: 0.9918\n",
            "Epoch 7/10\n",
            "3000/3000 [==============================] - 11s 4ms/step - loss: 0.0040 - accuracy: 0.9986 - val_loss: 0.0329 - val_accuracy: 0.9922\n",
            "Epoch 8/10\n",
            "3000/3000 [==============================] - 11s 4ms/step - loss: 0.0044 - accuracy: 0.9984 - val_loss: 0.0327 - val_accuracy: 0.9921\n",
            "Epoch 9/10\n",
            "3000/3000 [==============================] - 11s 4ms/step - loss: 0.0042 - accuracy: 0.9987 - val_loss: 0.0333 - val_accuracy: 0.9918\n",
            "Epoch 10/10\n",
            "3000/3000 [==============================] - 11s 4ms/step - loss: 0.0043 - accuracy: 0.9985 - val_loss: 0.0329 - val_accuracy: 0.9916\n"
          ],
          "name": "stdout"
        }
      ]
    },
    {
      "cell_type": "code",
      "metadata": {
        "colab": {
          "base_uri": "https://localhost:8080/"
        },
        "id": "YgebDi8VHXNC",
        "outputId": "8921bb5c-4e22-49d7-800f-65cd5adef0c2"
      },
      "source": [
        "model.summary()"
      ],
      "execution_count": 20,
      "outputs": [
        {
          "output_type": "stream",
          "text": [
            "Model: \"sequential\"\n",
            "_________________________________________________________________\n",
            "Layer (type)                 Output Shape              Param #   \n",
            "=================================================================\n",
            "conv2d (Conv2D)              (10, 26, 26, 32)          320       \n",
            "_________________________________________________________________\n",
            "conv2d_1 (Conv2D)            (10, 24, 24, 64)          18496     \n",
            "_________________________________________________________________\n",
            "max_pooling2d (MaxPooling2D) (10, 12, 12, 64)          0         \n",
            "_________________________________________________________________\n",
            "dropout (Dropout)            (10, 12, 12, 64)          0         \n",
            "_________________________________________________________________\n",
            "flatten (Flatten)            (10, 9216)                0         \n",
            "_________________________________________________________________\n",
            "dense (Dense)                (10, 128)                 1179776   \n",
            "_________________________________________________________________\n",
            "dropout_1 (Dropout)          (10, 128)                 0         \n",
            "_________________________________________________________________\n",
            "dense_1 (Dense)              (10, 10)                  1290      \n",
            "=================================================================\n",
            "Total params: 1,199,882\n",
            "Trainable params: 1,199,882\n",
            "Non-trainable params: 0\n",
            "_________________________________________________________________\n"
          ],
          "name": "stdout"
        }
      ]
    },
    {
      "cell_type": "code",
      "metadata": {
        "colab": {
          "base_uri": "https://localhost:8080/"
        },
        "id": "Ay-9IYFFv7qw",
        "outputId": "18565eab-5bc6-4894-eb28-3f31e889c44a"
      },
      "source": [
        "score = model.evaluate(x_test, y_test, verbose=0)\r\n",
        "print(f'Test loss: {score[0]}')\r\n",
        "print(f'Test accuracy: {score[1]}')"
      ],
      "execution_count": 21,
      "outputs": [
        {
          "output_type": "stream",
          "text": [
            "Test loss: 0.03046061471104622\n",
            "Test accuracy: 0.9901999831199646\n"
          ],
          "name": "stdout"
        }
      ]
    },
    {
      "cell_type": "markdown",
      "metadata": {
        "id": "o7uKXO6b65ZK"
      },
      "source": [
        "Now you can save the model and load it for predictions!"
      ]
    },
    {
      "cell_type": "code",
      "metadata": {
        "id": "AkoojKGV7AT2"
      },
      "source": [
        "model.save('cnn_model.h5')"
      ],
      "execution_count": 22,
      "outputs": []
    },
    {
      "cell_type": "code",
      "metadata": {
        "id": "Q2S_zC0u7Hrt"
      },
      "source": [
        "from keras.models import load_model\r\n",
        "\r\n",
        "loaded_model = load_model('cnn_model.h5')"
      ],
      "execution_count": 23,
      "outputs": []
    },
    {
      "cell_type": "code",
      "metadata": {
        "colab": {
          "base_uri": "https://localhost:8080/"
        },
        "id": "-Gnmsst17TkB",
        "outputId": "84222db0-f627-45ed-bbba-6ac68a7ec7f0"
      },
      "source": [
        "score = loaded_model.evaluate(x_test, y_test, verbose=0)\r\n",
        "print(f'Test loss: {score[0]}')\r\n",
        "print(f'Test accuracy: {score[1]}')"
      ],
      "execution_count": 24,
      "outputs": [
        {
          "output_type": "stream",
          "text": [
            "Test loss: 0.03046061471104622\n",
            "Test accuracy: 0.9901999831199646\n"
          ],
          "name": "stdout"
        }
      ]
    },
    {
      "cell_type": "code",
      "metadata": {
        "colab": {
          "base_uri": "https://localhost:8080/"
        },
        "id": "swetSUZw7eQ6",
        "outputId": "476bba12-74f0-4228-ce85-3c3b19c6544f"
      },
      "source": [
        "#testing out the model on an image\r\n",
        "import numpy as np\r\n",
        "input_img = x_test[2001]\r\n",
        "input_img = input_img.reshape(1, 28, 28,1)\r\n",
        "result = model.predict(input_img)\r\n",
        "print(result)\r\n",
        "result = np.asarray(np.argsort(model.predict(input_img))).reshape(-1)[-2:]\r\n",
        "print(result)"
      ],
      "execution_count": 25,
      "outputs": [
        {
          "output_type": "stream",
          "text": [
            "[[1.1047954e-06 1.2205621e-10 2.4310240e-10 4.2200208e-09 9.8528563e-09\n",
            "  9.9980217e-01 1.4537679e-07 4.2455488e-07 5.1887306e-05 1.4429864e-04]]\n",
            "[9 5]\n"
          ],
          "name": "stdout"
        }
      ]
    },
    {
      "cell_type": "code",
      "metadata": {
        "colab": {
          "base_uri": "https://localhost:8080/",
          "height": 298
        },
        "id": "KcYC5ozHDRmY",
        "outputId": "21588d90-adbd-4ce0-9de1-a5d9d7d119b6"
      },
      "source": [
        "plt.imshow(input_img.reshape(28,28))\r\n",
        "print(f'The number is: {result[1]}')\r\n",
        "print(f'If not, it is most likely {result[0]}.')"
      ],
      "execution_count": 26,
      "outputs": [
        {
          "output_type": "stream",
          "text": [
            "The number is: 5\n",
            "If not, it is most likely 9.\n"
          ],
          "name": "stdout"
        },
        {
          "output_type": "display_data",
          "data": {
            "image/png": "[encoded data removed]",
            "text/plain": [
              "<Figure size 432x288 with 1 Axes>"
            ]
          },
          "metadata": {
            "tags": [],
            "needs_background": "light"
          }
        }
      ]
    },
    {
      "cell_type": "code",
      "metadata": {
        "id": "1iIapt48WP6k"
      },
      "source": [
        ""
      ],
      "execution_count": 26,
      "outputs": []
    }
  ]
}